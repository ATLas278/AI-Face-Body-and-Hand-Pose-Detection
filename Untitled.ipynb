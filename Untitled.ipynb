{
 "cells": [
  {
   "cell_type": "code",
   "execution_count": 10,
   "id": "53d11aa3-eaed-4531-937d-65f0eafe6c81",
   "metadata": {},
   "outputs": [],
   "source": [
    "import mediapipe as mp\n",
    "import cv2\n",
    "\n",
    "from pathlib import Path"
   ]
  },
  {
   "cell_type": "code",
   "execution_count": 11,
   "id": "b9684412-5ea0-4db7-8da7-13ec594a2472",
   "metadata": {},
   "outputs": [],
   "source": [
    "mp_drawing = mp.solutions.drawing_utils\n",
    "mp_drawing_styles = mp.solutions.drawing_styles\n",
    "mp_holistic = mp.solutions.holistic"
   ]
  },
  {
   "cell_type": "code",
   "execution_count": 19,
   "id": "fb7d5fe4-2617-4930-be2b-cb396430cc66",
   "metadata": {},
   "outputs": [],
   "source": [
    "# cap.release()\n",
    "# cv2.destroyAllWindows()"
   ]
  },
  {
   "cell_type": "code",
   "execution_count": 20,
   "id": "298f2b00-0557-4e78-befe-a340611a2869",
   "metadata": {
    "collapsed": true,
    "jupyter": {
     "outputs_hidden": true
    },
    "tags": []
   },
   "outputs": [
    {
     "name": "stderr",
     "output_type": "stream",
     "text": [
      "[ WARN:0] global /tmp/pip-req-build-5mtujfce/opencv/modules/videoio/src/cap_v4l.cpp (890) open VIDEOIO(V4L2:/dev/video0): can't open camera by index\n"
     ]
    },
    {
     "data": {
      "text/plain": [
       "False"
      ]
     },
     "execution_count": 20,
     "metadata": {},
     "output_type": "execute_result"
    }
   ],
   "source": [
    "cv2.VideoCapture(0, apiPreference=cv2.CAP_V4L2).isOpened()"
   ]
  },
  {
   "cell_type": "code",
   "execution_count": 18,
   "id": "1152a466-85f1-49f6-8b26-03047dbd5bb4",
   "metadata": {},
   "outputs": [
    {
     "name": "stdout",
     "output_type": "stream",
     "text": [
      "Video I/O:\n",
      "    DC1394:                      NO\n",
      "    FFMPEG:                      YES\n",
      "      avcodec:                   YES (58.91.100)\n",
      "      avformat:                  YES (58.45.100)\n",
      "      avutil:                    YES (56.51.100)\n",
      "      swscale:                   YES (5.7.100)\n",
      "      avresample:                NO\n",
      "    GStreamer:                   NO\n",
      "    v4l/v4l2:                    YES (linux/videodev2.h)\n",
      "\n",
      "  \n"
     ]
    }
   ],
   "source": [
    "cv2.__version__\n",
    "info = cv2.getBuildInformation()\n",
    "video, parallel = info.index('Video'), info.index('Parallel')\n",
    "print(info[video:parallel])"
   ]
  },
  {
   "cell_type": "code",
   "execution_count": 13,
   "id": "6c068e2f-f20e-4aba-b787-402a992c256e",
   "metadata": {
    "collapsed": true,
    "jupyter": {
     "outputs_hidden": true
    },
    "tags": []
   },
   "outputs": [
    {
     "name": "stderr",
     "output_type": "stream",
     "text": [
      "[ WARN:0] global /tmp/pip-req-build-5mtujfce/opencv/modules/videoio/src/cap_v4l.cpp (890) open VIDEOIO(V4L2:/dev/video0): can't open camera by index\n"
     ]
    }
   ],
   "source": [
    "cap = cv2.VideoCapture(0, apiPreference=cv2.CAP_V4L2)\n",
    "\n",
    "with mp_holistic.Holistic(\n",
    "min_detection_confidence=0.5,\n",
    "min_tracking_confidence=0.5) as holistic:\n",
    "    while cap.isOpened():\n",
    "        # show output frame\n",
    "        ret, frame = cap.read()\n",
    "        \n",
    "        # Recolor feed\n",
    "        image = cv2.cvtColor(frame, cv2.COLOR_BGR2RGB)\n",
    "        # Make Detections\n",
    "        results = holistic.process(image)\n",
    "        print(results.face_landmarks)\n",
    "        \n",
    "        # face_landmarks\n",
    "        # pose_landmarks\n",
    "        # left_hand_landmarks\n",
    "        # right_hand_landmarks\n",
    "        \n",
    "        # Recolor image back to BGR for rendering\n",
    "        image = cv2.cvtColor(image, cv2.COLOR_RGB2BGR)\n",
    "        \n",
    "        # Drawing face landmarks\n",
    "        mp_drawing.draw_landmarks(image, results.face_landmarks, mp_holistic.FACE_CONNECTIONS)\n",
    "        \n",
    "        cv2.imshow('Holistic Model Detections', image)\n",
    "        key = cv2.waitKey(50) & 0xFF \n",
    "        \n",
    "        # if q key is pressed break the loop\n",
    "        if key == ord('q'):\n",
    "            break\n",
    "    # clean up\n",
    "    \n",
    "cap.release()\n",
    "cv2.destroyAllWindows()"
   ]
  },
  {
   "cell_type": "code",
   "execution_count": null,
   "id": "1c3044d4-fc25-4963-8777-649ea2b271d5",
   "metadata": {},
   "outputs": [],
   "source": []
  }
 ],
 "metadata": {
  "kernelspec": {
   "display_name": "Python 3 (ipykernel)",
   "language": "python",
   "name": "python3"
  },
  "language_info": {
   "codemirror_mode": {
    "name": "ipython",
    "version": 3
   },
   "file_extension": ".py",
   "mimetype": "text/x-python",
   "name": "python",
   "nbconvert_exporter": "python",
   "pygments_lexer": "ipython3",
   "version": "3.7.9"
  }
 },
 "nbformat": 4,
 "nbformat_minor": 5
}
